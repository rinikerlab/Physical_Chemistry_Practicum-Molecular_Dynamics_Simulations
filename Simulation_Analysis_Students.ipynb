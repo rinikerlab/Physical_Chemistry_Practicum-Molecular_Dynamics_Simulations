{
  "cells": [
    {
      "metadata": {
        "collapsed": true
      },
      "cell_type": "markdown",
      "source": "# Important Information before starting\n\n1. To execute a cell, type on the keyboard \n\n        shift + enter\n2. To save figures: \n        \n        right click on the figure > Save image as...\n3. <font color='blue'> Questions of the script in blue boxes that you should answer in the report are highlight here as blue text. This notebook contains only the questions of the sections analyzed here. Thus, here there is only a subset of all the questions you should answer. \n\n4. <font color='red'> Cells that you have to edit are preceeded by red text <font color='black'>\n5. What you have to edit:\n    \n    * \"FILENAME\" must be replaced by the name of the file containing the analysis of interest. All files are listed in the section \"Folder Tree: List of the analysis files\" \n    * Add labels for the x- and y- axis to the figures by yourself. Remember units!!!!\n\n6. Analysis sections are numbered according to the script\n7. We recommend you to proceed as follows: \n(1) read the section of the given analysis method in the script\n(2) execute the code in the jupyter notebook\n(3) save the figures that you need for the report\n(4) read the next section in the script, and so on\n\n8. You can access the this notebook you have edited from anywhere. Just remember your login details for Microsoft Azure Notebooks!\n\n"
    },
    {
      "metadata": {},
      "cell_type": "markdown",
      "source": "# Let's Start"
    },
    {
      "metadata": {
        "trusted": true
      },
      "cell_type": "code",
      "source": "#---------------------------------------------------\n#          @STUDENTS DO NOT CHANGE ANYTHING HERE!\n#---------------------------------------------------\n#imports\nimport os, tempfile\n\n# hidden wrappers by bschroed\nos.chdir(\"/home/nbuser/library/.src\")\nimport visualization_fuctions as vis  #this is the visualization package\nimport parsing_files as parse #this is the file parsing package\n\n#go to analysis directory\nos.chdir(\"/home/nbuser/library/analysis\")\n\n#Set visualization backend\n%matplotlib inline\n#%matplotlib notebook\n#----------------------------------------------------",
      "execution_count": null,
      "outputs": []
    },
    {
      "metadata": {},
      "cell_type": "markdown",
      "source": "## Folder Tree: List of the analysis files"
    },
    {
      "metadata": {
        "trusted": true
      },
      "cell_type": "code",
      "source": "ana_file_dir = os.getcwd()# used from here on!\n\nprint(\"You are in directory: \"+ana_file_dir,\"\\n\")\nprint(\"Here are the ana Files: \\n\\n\\t\"+\"\\n\\t\".join(os.listdir(ana_file_dir)))",
      "execution_count": null,
      "outputs": []
    },
    {
      "metadata": {},
      "cell_type": "markdown",
      "source": "## 2.3.2 RMSD-Analysis"
    },
    {
      "metadata": {},
      "cell_type": "markdown",
      "source": "#### Load the Data"
    },
    {
      "metadata": {},
      "cell_type": "markdown",
      "source": "<font color='red'> Type the name of files containing the RMSD analyses in the cell below"
    },
    {
      "metadata": {
        "trusted": true
      },
      "cell_type": "code",
      "source": "#load rmsd Data\n\nrmsd_right_helix_file_path = \"FILENAME\" #Write here the name of the file containing the RMSD from the right-handed conformation. \nrmsd_right_helix_data = parse.read_rmsd_file(file_path=rmsd_right_helix_file_path)\n\nrmsd_left_helix_file_path = \"FILENAME\"  #Write here the name of the file containing the RMSD from the left-handed conformation. \nrmsd_left_helix_data = parse.read_rmsd_file(file_path=rmsd_left_helix_file_path)\n\n",
      "execution_count": null,
      "outputs": []
    },
    {
      "metadata": {},
      "cell_type": "markdown",
      "source": "As you have also seen looking at the rmsd_left_helix.dat file using emacs, the rmsd output files provided by GROMOS contain two columns, one with the time information and one with the RMSD. You can visualize again the content of the data file, as follows:\n"
    },
    {
      "metadata": {
        "trusted": true
      },
      "cell_type": "code",
      "source": "rmsd_left_helix_data.head()",
      "execution_count": null,
      "outputs": []
    },
    {
      "metadata": {},
      "cell_type": "markdown",
      "source": "Let's check how many data points each file contains:"
    },
    {
      "metadata": {
        "trusted": true
      },
      "cell_type": "code",
      "source": "print(\"loaded left helix data: \\n\\trows: \"+str(rmsd_left_helix_data.shape[0])+\"\\n\\tcols:\"+str(rmsd_left_helix_data.shape[1]))\nprint()\nprint(\"loaded right helix data: \\n\\trows: \"+str(rmsd_right_helix_data.shape[0])+\"\\n\\tcols:\"+str(rmsd_right_helix_data.shape[1]))",
      "execution_count": null,
      "outputs": []
    },
    {
      "metadata": {},
      "cell_type": "markdown",
      "source": "You should see that both dataframes contain 500000 rows. The simulation was run for 500 ns. This means that the trajectory snapshots were saved every \n1 ps. \n\nIn which units is the time given? "
    },
    {
      "metadata": {},
      "cell_type": "markdown",
      "source": "#### Visualize the RMSD vs time \n\nPlot the RMSD vs time. Horizontal dotted lines are drawn at 0.08 nm and 0.12 nm.\n\n* If RMSD < 0.08 nm, then the snapshot is in the same conformation as the reference structure\n* If RMSD > 0.12 nm, then the snapshot is in a different conformation compared to the reference structure\n* If both the RMSD from the right-handed and left-handed conformations > 0.12 nm, then the snapshot is in an unfolded state. \n\nThis information will be useful for the calculation of the free energy differences (next section 2.3.3 of the script).\n"
    },
    {
      "metadata": {},
      "cell_type": "markdown",
      "source": "<font color='red'> Add labels for the x- and y- axes"
    },
    {
      "metadata": {
        "trusted": true
      },
      "cell_type": "code",
      "source": "time    = rmsd_right_helix_data.time\nrmsd    = rmsd_right_helix_data.rmsd\nx_label = \"\" #Add label/[units] for the x-axis\ny_label = \"\" #Add the label/[units] for the y-axis\ntitle   = \"\" #Optional - Add a title for the plot, which describes in few words the content of the plot\nvis.visualize_timeseries(time=time, data=rmsd, title=title, y_label=y_label, x_label=x_label)\npass",
      "execution_count": null,
      "outputs": []
    },
    {
      "metadata": {},
      "cell_type": "markdown",
      "source": "<font color='red'> Add labels for the x- and y- axes"
    },
    {
      "metadata": {
        "trusted": true
      },
      "cell_type": "code",
      "source": "time    = rmsd_left_helix_data.time\nrmsd    = rmsd_left_helix_data.rmsd\nx_label = \"\" #Add label/[units] for the x-axis\ny_label = \"\" #Add the label/[units] for the y-axis\ntitle   = \"\" #Optional - Add a title for the plot, which describes in few words the content of the plot\n\nvis.visualize_timeseries(time=time, data=rmsd, title=title, y_label=y_label, x_label=x_label)\n\npass",
      "execution_count": null,
      "outputs": []
    },
    {
      "metadata": {},
      "cell_type": "markdown",
      "source": "#### Questions to answer in the report:\n\n<font color='blue'> \n* Include the RMSD figures in your report and comment on them.\n* How do you interpret the plots? Which conformation seems to be the most stable?\n* Can you draw conclusions that correlate with what you observed in the movies?\n"
    },
    {
      "metadata": {},
      "cell_type": "raw",
      "source": "Space for thoughts\n\n\n\n\n\n\n"
    },
    {
      "metadata": {},
      "cell_type": "markdown",
      "source": "## 2.3.3 Calculation of free energy differences\n\n**Parameters**\n\n|Name                     | Symbol  | size    | unit  |\n|---                      | ---     | ---     | ---   |\n| Temperature             | T       | 340     | K     |\n| Boltzmann Constant * Avogadro number     | $k_b$ * $N_A$   | 8.31 | $JK^{-1}mol^-1$ |\n\n**counts**\n \n|Name              | counts  |\n|---               | ---     |\n| right_helix     | 101592  |\n| left_helix      | 109406  |\n| unfolded         | 186294  |\n|  all dataPoints  | 500000  |\n"
    },
    {
      "metadata": {},
      "cell_type": "markdown",
      "source": "<font color='red'> Calculate the probability of every state and the free energy differences between the different states according to the equations reported in section 2.3.3 of the script."
    },
    {
      "metadata": {
        "trusted": true
      },
      "cell_type": "code",
      "source": "### FILL in the results (use the equations from above)\n\n##Probabilities\nprobability_left =  \nprobability_right =  \nprobability_unfolded = \n\n##Calculate Free Energy:\ndG_unfolded_left = \ndG_right_unfolded = \ndG_left_right = \n",
      "execution_count": null,
      "outputs": []
    },
    {
      "metadata": {},
      "cell_type": "markdown",
      "source": "#### Questions to answer in the report:\n<font color='blue'> \n\n* Report the calculated free energy differences \n* Which conformation is more stable?\n* Is this in agreement in what you observed so far? How do you explain this result?\n\n"
    },
    {
      "metadata": {},
      "cell_type": "markdown",
      "source": "## 2.3.4 Dihedral angles analysis"
    },
    {
      "metadata": {},
      "cell_type": "markdown",
      "source": "#### load data\n\n<font color='red'> Type the name of file containing the analysis of the dihedral angles in the cell below:"
    },
    {
      "metadata": {
        "trusted": true
      },
      "cell_type": "code",
      "source": "#load dihedrals Data\ndihedral_file_path = \"FILENAME\"         #file containing the time series of the dihedral angles 1 to 10\n\ndihedral_data = parse.read_dihedral_file(file_path=dihedral_file_path)\n#remove flexible dihedrals from the table and only keep psi (1,2,3,4,5) and phi (6,7,8,9,10) angles:\ndihedral_data = dihedral_data.drop(columns=['dihedral 11', 'dihedral 12', 'dihedral 13', 'dihedral 14','dihedral 15'])\n",
      "execution_count": null,
      "outputs": []
    },
    {
      "metadata": {},
      "cell_type": "markdown",
      "source": "#### visualize dihedrals"
    },
    {
      "metadata": {},
      "cell_type": "markdown",
      "source": "<font color='red'> Add labels for the x- and y- axes"
    },
    {
      "metadata": {
        "trusted": true
      },
      "cell_type": "code",
      "source": "data = dihedral_data\nx_labels = \"\" #Add label/[units] for the x-axis\ny_labels = \"\" #Add the label/[units] for the y-axis\ntitle   = \"\" #Optional - Add a title for the plot, which describes in few words the content of the plot\n\nvis.visualize_dihedrals(data=data, y_labels=y_labels, x_labels=x_labels, title=title)\npass",
      "execution_count": null,
      "outputs": []
    },
    {
      "metadata": {},
      "cell_type": "markdown",
      "source": "#### Questions to answer in the report:\n<font color='blue'> \n\n* Plot the time evolution of the dihedral angles 1 to 10 using the Jupyter notebook. Include the figure in you report.\n* Discuss what you see, e.g. Do you see a correlation between the different dihedral angles?\n* What can you conclude from these plots and is what you observe in agreement with what reported so far?"
    },
    {
      "metadata": {},
      "cell_type": "raw",
      "source": "Space for thoughts\n\n\n\n\n\n\n"
    },
    {
      "metadata": {},
      "cell_type": "markdown",
      "source": "## 2.3.5 Clustering\n"
    },
    {
      "metadata": {},
      "cell_type": "markdown",
      "source": "#### load data\n\n<font color='red'> Type the name of file containing the clustering analysis"
    },
    {
      "metadata": {
        "trusted": true
      },
      "cell_type": "code",
      "source": "#load clustering Data\nclustering_file_path = \"FILENAME\"         #Write here the name of the file containing the clustering analysis\ncluster_sizes_data = parse.read_cluster_file(file_path=clustering_file_path)\ncluster_sizes_data = cluster_sizes_data.iloc[1:]",
      "execution_count": null,
      "outputs": []
    },
    {
      "metadata": {
        "trusted": true
      },
      "cell_type": "code",
      "source": "print(\"Total number of clusters: \\n \"+str(cluster_sizes_data.shape[0]))",
      "execution_count": null,
      "outputs": []
    },
    {
      "metadata": {},
      "cell_type": "markdown",
      "source": "#### Look at the populations of the most populated clusters"
    },
    {
      "metadata": {},
      "cell_type": "markdown",
      "source": "Print the cluster number and the cluster sizes of the 10 most populated clusters:"
    },
    {
      "metadata": {
        "trusted": true
      },
      "cell_type": "code",
      "source": "cluster_sizes_data.iloc[0:20]",
      "execution_count": null,
      "outputs": []
    },
    {
      "metadata": {},
      "cell_type": "markdown",
      "source": "#### Plot the size of the clusters vs the cluster number for the 50 most populated clusters"
    },
    {
      "metadata": {},
      "cell_type": "markdown",
      "source": "<font color='red'> Add labels for the x- and y- axes"
    },
    {
      "metadata": {
        "trusted": true
      },
      "cell_type": "code",
      "source": "#visualize\n##variables\ncluster_ids   = cluster_sizes_data.clusterID\ncluster_sizes = cluster_sizes_data.clusterSize\nshow_first_clusters = 50\nx_label = \"\"\ny_label = \"\"\ntitle = \"\"\n\nvis.visualize_cluster_sizes(cluster_ids, cluster_sizes, show_first_clusters, x_label, y_label, title)\npass",
      "execution_count": null,
      "outputs": []
    },
    {
      "metadata": {},
      "cell_type": "markdown",
      "source": "### Representatives structures of the 10 most populated clusters\n\n\n<dir  style=\"text-align: center; float: left; width: 33%; font-size: 16px; font-weight: bold;\">\n    cluster center 1\n    <img src=\".img/center1.png\">\n</dir>\n<dir width=25%  style=\"text-align: center; float:left; width: 33%; font-size: 16px; font-weight: bold;\">\n    cluster center 2\n    <img src=\".img/center2b.png\">\n</dir>\n    <dir  style=\"text-align: center; float: left; width: 33%; font-size: 16px; font-weight: bold;\">\n    cluster center 3\n    <img src=\".img/center3.png\">\n</dir>\n<dir width=25%  style=\"text-align: center; float:left; width: 33%; font-size: 16px; font-weight: bold;\">\n    cluster center 4\n    <img src=\".img/center4b.png\">\n</dir>    \n<dir  style=\"text-align: center; float: left; width: 33%; font-size: 16px; font-weight: bold;\">\n    cluster center 5\n    <img src=\".img/center5.png\">\n</dir>\n<dir width=25%  style=\"text-align: center; float:left; width: 33%; font-size: 16px; font-weight: bold;\">\n    cluster center 6\n    <img src=\".img/center6.png\">\n</dir>    \n<dir  style=\"text-align: center; float: left; width: 33%; font-size: 16px; font-weight: bold;\">\n    cluster center 7\n    <img src=\".img/center7.png\">\n</dir>\n<dir width=25%  style=\"text-align: center; float:left; width: 33%; font-size: 16px; font-weight: bold;\">\n    cluster center 8\n    <img src=\".img/center8.png\">\n</dir>\n<dir width=25%  style=\"text-align: center; float:left; width: 33%; font-size: 16px; font-weight: bold;\">\n    cluster center 9\n    <img src=\".img/center9.png\">\n</dir>    \n<dir width=25%  style=\"text-align: center; float:left; width: 33%; font-size: 16px; font-weight: bold;\">\n    cluster center 10\n    <img src=\".img/center10.png\">\n</dir>\n\n   "
    },
    {
      "metadata": {
        "slideshow": {
          "slide_type": "slide"
        }
      },
      "cell_type": "markdown",
      "source": "#### Questions to answer in the report:\n<font color='blue'> \n* Write down: the size (number of structures) of the ten first clusters, the total number of clusters and the cutoff value used and include that data into your report\n* Include the plot of the cluster populations in your report.\n* Include the Figure of the most 10 populated clusters in your report\n* Discuss both the most populated conformations and the difference in population between the clusters\n* Which cluster is more similar to the NMR starting structure?\n\n"
    },
    {
      "metadata": {},
      "cell_type": "raw",
      "source": "Space for thoughts\n\n\n\n\n\n\n"
    }
  ],
  "metadata": {
    "kernelspec": {
      "name": "python36",
      "display_name": "Python 3.6",
      "language": "python"
    },
    "language_info": {
      "mimetype": "text/x-python",
      "nbconvert_exporter": "python",
      "name": "python",
      "pygments_lexer": "ipython3",
      "version": "3.6.6",
      "file_extension": ".py",
      "codemirror_mode": {
        "version": 3,
        "name": "ipython"
      }
    }
  },
  "nbformat": 4,
  "nbformat_minor": 2
}